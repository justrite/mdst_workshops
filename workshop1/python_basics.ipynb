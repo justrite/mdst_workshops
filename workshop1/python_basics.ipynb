{
 "nbformat": 4,
 "nbformat_minor": 2,
 "metadata": {
  "language_info": {
   "name": "python",
   "codemirror_mode": {
    "name": "ipython",
    "version": 3
   },
   "version": "3.7.4-final"
  },
  "orig_nbformat": 2,
  "file_extension": ".py",
  "mimetype": "text/x-python",
  "name": "python",
  "npconvert_exporter": "python",
  "pygments_lexer": "ipython3",
  "version": 3,
  "kernelspec": {
   "name": "python3",
   "display_name": "Python 3"
  }
 },
 "cells": [
  {
   "cell_type": "markdown",
   "execution_count": null,
   "metadata": {},
   "outputs": [],
   "source": [
    "MDST Workshop 1 - Python Basics  \n",
    "Justin Ritenburgh\n",
    "Winter 2020"
   ]
  },
  {
   "cell_type": "code",
   "execution_count": null,
   "metadata": {},
   "outputs": [],
   "source": [
    "import numpy as np\n",
    "import random as rand\n",
    "import base64"
   ]
  },
  {
   "cell_type": "code",
   "execution_count": null,
   "metadata": {},
   "outputs": [],
   "source": [
    "def part1(num = None):\n",
    "    \"\"\"\n",
    "    Ask the user for a number. Depending on whether the number is even or odd,\n",
    "    print out an appropriate (i.e. \"even\" or \"odd\") message to the user.\n",
    "    \"\"\"\n",
    "    if num == None:\n",
    "        num = input(\"Please input a natural number: \")\n",
    "    if (int(num) % 2 == 0):\n",
    "        print(\"Even!\")\n",
    "    else:\n",
    "        print(\"Odd!\")"
   ]
  },
  {
   "cell_type": "code",
   "execution_count": null,
   "metadata": {},
   "outputs": [],
   "source": [
    "def part2():\n",
    "    \"\"\"\n",
    "    Generate a random number between 1 and 9 (including 1 and 9). Ask the user\n",
    "    to guess the number, then tell them whether they guessed too low, too high,\n",
    "    or exactly right.\n",
    "    (Hint: remember to use the user input lessons from the very first\n",
    "    exercise).\n",
    "    Keep the game going until the user types \"exit\".\n",
    "    [ try checking the random module in python on google. Concepts: Infinite\n",
    "    loops, if, else, loops and user/input].\n",
    "    \"\"\"\n",
    "\n",
    "    num = rand.randint(1, 9)\n",
    "    x = '\\0'\n",
    "    while(x != exit):\n",
    "        x = input(\"Please enter a number between 1 and 9, or type \\'exit\\' to quit: \")\n",
    "        if(x == \"exit\"):\n",
    "            print(\"Goodbye!\")\n",
    "            return None\n",
    "        if(not x.isdigit()):\n",
    "            print(\"Invalid input.\")\n",
    "        elif(int(x) not in range(1, 9)):\n",
    "            print(\"Invalid input.\")\n",
    "        elif(int(x) > num):\n",
    "            print(\"Guess: \" + str(num))\n",
    "            print(\"Your guess was too high.\")\n",
    "        elif(int(x) < num):\n",
    "            print(\"Guess: \" + str(num))\n",
    "            print(\"Your guess was too low.\")\n",
    "        elif(int(x) == num):\n",
    "            print(\"Guess: \" + str(num))\n",
    "            print(\"Your guess was correct!\")\n",
    "            return None"
   ]
  },
  {
   "cell_type": "code",
   "execution_count": null,
   "metadata": {},
   "outputs": [],
   "source": [
    "def part3(string = None):\n",
    "    \"\"\"\n",
    "    Ask the user for a string and print out whether this string is a palindrome\n",
    "    or not. (A palindrome is a string that reads the same forwards and\n",
    "    backwards.)\n",
    "    \"\"\"\n",
    "    if string == None:\n",
    "        string = input(\"Please input a string: \")\n",
    "    for i in range(int(np.ceil(np.float64(len(string))/2))):\n",
    "        if string[i] != string[-i-1]:\n",
    "            print(\"False\")\n",
    "            return None\n",
    "    print(\"True\")"
   ]
  },
  {
   "cell_type": "code",
   "execution_count": null,
   "metadata": {},
   "outputs": [],
   "source": [
    "def part4a(filename, username, password):\n",
    "    \"\"\"\n",
    "    Encrypt your username and password using base64 module\n",
    "    Store your encrypted username on the first line and your encrypted password\n",
    "    on the second line.\n",
    "    \"\"\"\n",
    "    f = open(filename, 'w')\n",
    "    encodedBytes = base64.b64encode(username.encode(\"utf-8\"))\n",
    "    encodedUsername = str(encodedBytes, \"utf-8\")\n",
    "    encodedBytes = base64.b64encode(password.encode(\"utf-8\"))\n",
    "    encodedPassword = str(encodedBytes, \"utf-8\")\n",
    "    L = [encodedUsername + '\\n', encodedPassword + '\\n']\n",
    "    f.writelines(L)\n",
    "    f.close()\n",
    "    return None"
   ]
  },
  {
   "cell_type": "code",
   "execution_count": null,
   "metadata": {},
   "outputs": [],
   "source": [
    "def part4b(filename, password=None):\n",
    "    \"\"\"\n",
    "    Create a function to read the file with your login information.\n",
    "    Print out the decrypted username and password.\n",
    "    If a password is specified, update the file with the new password.\n",
    "    \"\"\"\n",
    "    f = open(filename, 'r')\n",
    "    L = f.readlines()\n",
    "    print(str(base64.b64decode(L[0]), \"utf-8\"))\n",
    "    print(str(base64.b64decode(L[1]), \"utf-8\"))\n",
    "    f.close()\n",
    "    if(password != None):\n",
    "        f = open(filename, 'w')\n",
    "        L[1] = str(base64.b64encode(password.encode(\"utf-8\")), \"utf-8\")\n",
    "        f.writelines(L)\n",
    "        f.close()\n",
    "    return None"
   ]
  },
  {
   "cell_type": "code",
   "execution_count": null,
   "metadata": {},
   "outputs": [],
   "source": [
    "part1(3) # Ddd!\n",
    "part1(4) # Even!\n",
    "part1() # User input\n",
    "part2()\n",
    "part3(\"ratrace\") # False\n",
    "part3(\"racecar\") # True\n",
    "part3() # User input\n",
    "part4a(\"secret.txt\", \"naitian\", \"p4ssw0rd\")\n",
    "part4b(\"secret.txt\")\n",
    "part4b(\"secret.txt\", password=\"p4ssw0rd!\")\n",
    "part4b(\"secret.txt\")"
   ]
  }
 ]
}